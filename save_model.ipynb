{
 "cells": [
  {
   "cell_type": "code",
   "execution_count": 1,
   "metadata": {},
   "outputs": [
    {
     "name": "stderr",
     "output_type": "stream",
     "text": [
      "Using TensorFlow backend.\n"
     ]
    }
   ],
   "source": [
    "import keras\n",
    "from keras.layers import Dense, Dropout, Activation, Flatten, Conv2D, MaxPooling2D\n",
    "from tensorflow.keras.callbacks import TensorBoard\n",
    "\n",
    "import multiprocessing\n",
    "import numpy as np\n",
    "import pickle\n",
    "import time"
   ]
  },
  {
   "cell_type": "code",
   "execution_count": 2,
   "metadata": {},
   "outputs": [],
   "source": [
    "pickle_in = open(\"X.pickle\",\"rb\")\n",
    "X = pickle.load(pickle_in)\n",
    "\n",
    "pickle_in = open(\"y.pickle\",\"rb\")\n",
    "y = pickle.load(pickle_in)"
   ]
  },
  {
   "cell_type": "code",
   "execution_count": 3,
   "metadata": {},
   "outputs": [
    {
     "name": "stdout",
     "output_type": "stream",
     "text": [
      "(414, 100, 100, 2)\n",
      "-1.0\n",
      "1.0\n"
     ]
    }
   ],
   "source": [
    "# Data scaling\n",
    "out_min = -1\n",
    "out_max = 1\n",
    "\n",
    "X_scaled = np.copy(X)\n",
    "\n",
    "x_min = np.min(X)\n",
    "x_max = np.max(X)\n",
    "\n",
    "cnt = 0\n",
    "for xi in X:\n",
    "    x_std = (xi - x_min)/(x_max - x_min)\n",
    "    x_scld = x_std*(out_max - out_min) + out_min\n",
    "    X_scaled[cnt] = x_scld\n",
    "    cnt = cnt + 1\n",
    "\n",
    "print(X_scaled.shape)\n",
    "print(np.min(X_scaled))\n",
    "print(np.max(X_scaled))"
   ]
  },
  {
   "cell_type": "code",
   "execution_count": 4,
   "metadata": {},
   "outputs": [
    {
     "name": "stdout",
     "output_type": "stream",
     "text": [
      "2-conv-32-nodes-0-dense-1594058260\n",
      "Train on 331 samples, validate on 83 samples\n",
      "Epoch 1/10\n",
      "331/331 [==============================] - 1s 4ms/step - loss: 0.6274 - acc: 0.6647 - val_loss: 0.5194 - val_acc: 0.8072\n",
      "Epoch 2/10\n",
      "331/331 [==============================] - 0s 654us/step - loss: 0.4088 - acc: 0.8338 - val_loss: 0.2763 - val_acc: 0.9036\n",
      "Epoch 3/10\n",
      "331/331 [==============================] - 0s 657us/step - loss: 0.1967 - acc: 0.9335 - val_loss: 0.0972 - val_acc: 0.9880\n",
      "Epoch 4/10\n",
      "331/331 [==============================] - 0s 645us/step - loss: 0.0904 - acc: 0.9668 - val_loss: 0.0542 - val_acc: 1.0000\n",
      "Epoch 5/10\n",
      "331/331 [==============================] - 0s 646us/step - loss: 0.0601 - acc: 0.9789 - val_loss: 0.0175 - val_acc: 1.0000\n",
      "Epoch 6/10\n",
      "331/331 [==============================] - 0s 679us/step - loss: 0.0401 - acc: 0.9940 - val_loss: 0.0126 - val_acc: 1.0000\n",
      "Epoch 7/10\n",
      "331/331 [==============================] - 0s 667us/step - loss: 0.0202 - acc: 0.9970 - val_loss: 0.0180 - val_acc: 1.0000\n",
      "Epoch 8/10\n",
      "331/331 [==============================] - 0s 698us/step - loss: 0.0113 - acc: 1.0000 - val_loss: 0.0034 - val_acc: 1.0000\n",
      "Epoch 9/10\n",
      "331/331 [==============================] - 0s 679us/step - loss: 0.0065 - acc: 1.0000 - val_loss: 0.0024 - val_acc: 1.0000\n",
      "Epoch 10/10\n",
      "331/331 [==============================] - 0s 651us/step - loss: 0.0047 - acc: 1.0000 - val_loss: 0.0027 - val_acc: 1.0000\n",
      "_________________________________________________________________\n",
      "Layer (type)                 Output Shape              Param #   \n",
      "=================================================================\n",
      "conv2d_1 (Conv2D)            (None, 98, 98, 32)        608       \n",
      "_________________________________________________________________\n",
      "activation_1 (Activation)    (None, 98, 98, 32)        0         \n",
      "_________________________________________________________________\n",
      "max_pooling2d_1 (MaxPooling2 (None, 49, 49, 32)        0         \n",
      "_________________________________________________________________\n",
      "conv2d_2 (Conv2D)            (None, 47, 47, 32)        9248      \n",
      "_________________________________________________________________\n",
      "activation_2 (Activation)    (None, 47, 47, 32)        0         \n",
      "_________________________________________________________________\n",
      "max_pooling2d_2 (MaxPooling2 (None, 23, 23, 32)        0         \n",
      "_________________________________________________________________\n",
      "flatten_1 (Flatten)          (None, 16928)             0         \n",
      "_________________________________________________________________\n",
      "dense_1 (Dense)              (None, 1)                 16929     \n",
      "_________________________________________________________________\n",
      "activation_3 (Activation)    (None, 1)                 0         \n",
      "=================================================================\n",
      "Total params: 26,785\n",
      "Trainable params: 26,785\n",
      "Non-trainable params: 0\n",
      "_________________________________________________________________\n"
     ]
    }
   ],
   "source": [
    "def run_training(X_scaled, y, NAME, layer_size, conv_layer, dense_layer):\n",
    "    model = keras.Sequential()\n",
    "    \n",
    "    model.add(Conv2D(layer_size, (3, 3), input_shape=X.shape[1:]))\n",
    "    model.add(Activation('relu'))\n",
    "    model.add(MaxPooling2D(pool_size=(2, 2)))\n",
    "    \n",
    "    for l in range(conv_layer-1):\n",
    "        model.add(Conv2D(layer_size, (3, 3)))\n",
    "        model.add(Activation('relu'))\n",
    "        model.add(MaxPooling2D(pool_size=(2, 2)))\n",
    "        \n",
    "    model.add(Flatten())\n",
    "    \n",
    "    for _ in range(dense_layer):\n",
    "        model.add(Dense(layer_size))\n",
    "        model.add(Activation('relu'))\n",
    "    \n",
    "    model.add(Dense(1))\n",
    "    model.add(Activation('sigmoid'))\n",
    "\n",
    "    tensorboard = TensorBoard(log_dir=\"logs/{}\".format(NAME))\n",
    "\n",
    "    model.compile(loss='binary_crossentropy',\n",
    "                  optimizer='adam',\n",
    "                  metrics=['accuracy'])\n",
    "\n",
    "    model.fit(X_scaled, y,\n",
    "              batch_size=20,\n",
    "              epochs=10,\n",
    "              validation_split=0.2,\n",
    "              callbacks=[tensorboard])\n",
    "    \n",
    "    model.save('32x2conv-0dense.model')\n",
    "    model.summary()\n",
    "\n",
    "\n",
    "layer_sizes = [32]\n",
    "conv_layers = [2]\n",
    "dense_layers = [0]\n",
    "\n",
    "for dense_layer in dense_layers:\n",
    "    for layer_size in layer_sizes:\n",
    "        for conv_layer in conv_layers:\n",
    "            NAME = \"{}-conv-{}-nodes-{}-dense-{}\".format(conv_layer, layer_size, dense_layer, int(time.time()))\n",
    "            print(NAME)\n",
    "            \n",
    "            p = multiprocessing.Process(target=run_training, args=(X_scaled, y, NAME, layer_size, conv_layer,\n",
    "                                                                  dense_layer))\n",
    "            p.start()\n",
    "            p.join()"
   ]
  },
  {
   "cell_type": "code",
   "execution_count": null,
   "metadata": {},
   "outputs": [],
   "source": []
  }
 ],
 "metadata": {
  "kernelspec": {
   "display_name": "Python 2",
   "language": "python",
   "name": "python2"
  },
  "language_info": {
   "codemirror_mode": {
    "name": "ipython",
    "version": 2
   },
   "file_extension": ".py",
   "mimetype": "text/x-python",
   "name": "python",
   "nbconvert_exporter": "python",
   "pygments_lexer": "ipython2",
   "version": "2.7.12"
  }
 },
 "nbformat": 4,
 "nbformat_minor": 2
}
