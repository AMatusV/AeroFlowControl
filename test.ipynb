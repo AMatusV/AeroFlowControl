{
 "cells": [
  {
   "cell_type": "code",
   "execution_count": 1,
   "metadata": {},
   "outputs": [],
   "source": [
    "import cv2\n",
    "import numpy as np\n",
    "import rosbag\n",
    "from cv_bridge import CvBridge\n",
    "\n",
    "from sensor_msgs.msg import Image"
   ]
  },
  {
   "cell_type": "code",
   "execution_count": 14,
   "metadata": {},
   "outputs": [
    {
     "name": "stdout",
     "output_type": "stream",
     "text": [
      "msg\n",
      "[[32768 32768 32768 ... 32768 32768 32768]\n",
      " [32768 32768 32768 ... 32768 32768 32768]\n",
      " [32768 32768 32768 ... 32768 32768 32768]\n",
      " ...\n",
      " [32768 32768 32768 ... 32768 32768 32768]\n",
      " [32768 32768 32768 ... 32768 32768 32768]\n",
      " [32768 32768 32768 ... 32768 32768 32768]]\n",
      "[[32758 32762 32766 ... 32770 32770 32770]\n",
      " [32758 32762 32765 ... 32773 32773 32773]\n",
      " [32759 32761 32763 ... 32776 32776 32776]\n",
      " ...\n",
      " [32762 32762 32761 ... 32820 32820 32820]\n",
      " [32762 32762 32761 ... 32820 32820 32820]\n",
      " [32762 32762 32761 ... 32820 32820 32820]]\n",
      "flow\n",
      "[[-0.15625  -0.09375  -0.03125  ...  0.03125   0.03125   0.03125 ]\n",
      " [-0.15625  -0.09375  -0.046875 ...  0.078125  0.078125  0.078125]\n",
      " [-0.140625 -0.109375 -0.078125 ...  0.125     0.125     0.125   ]\n",
      " ...\n",
      " [-0.09375  -0.09375  -0.109375 ...  0.8125    0.8125    0.8125  ]\n",
      " [-0.09375  -0.09375  -0.109375 ...  0.8125    0.8125    0.8125  ]\n",
      " [-0.09375  -0.09375  -0.109375 ...  0.8125    0.8125    0.8125  ]]\n",
      "[[0. 0. 0. ... 0. 0. 0.]\n",
      " [0. 0. 0. ... 0. 0. 0.]\n",
      " [0. 0. 0. ... 0. 0. 0.]\n",
      " ...\n",
      " [0. 0. 0. ... 0. 0. 0.]\n",
      " [0. 0. 0. ... 0. 0. 0.]\n",
      " [0. 0. 0. ... 0. 0. 0.]]\n",
      "1.0\n",
      "0.0\n"
     ]
    }
   ],
   "source": [
    "bag = rosbag.Bag('test_2020-06-15-19-36-39.bag')\n",
    "bridge = CvBridge()\n",
    "\n",
    "msgFlow = []\n",
    "optFlow = []\n",
    "\n",
    "for topic, msg, t in bag.read_messages(topics=['/flow']):\n",
    "    msgFlow.append(bridge.imgmsg_to_cv2(msg, 'bgr16'))\n",
    "    optFlow.append(np.flip(msgFlow[-1][...,1:3], axis=-1).astype(np.float32))\n",
    "    optFlow[-1] = (optFlow[-1] - 32768.) / (64.)\n",
    "\n",
    "sample = 60\n",
    "print(\"msg\")\n",
    "print(msgFlow[sample][...,1])\n",
    "print(msgFlow[sample][...,2])\n",
    "\n",
    "print(\"flow\")\n",
    "print(optFlow[sample][...,0])\n",
    "print(optFlow[sample][...,1])\n",
    "\n",
    "print(np.amax(optFlow[sample][...,0]))\n",
    "print(np.amax(optFlow[sample][...,1]))"
   ]
  },
  {
   "cell_type": "code",
   "execution_count": 22,
   "metadata": {},
   "outputs": [
    {
     "name": "stdout",
     "output_type": "stream",
     "text": [
      "[[32768 32768 32768 ... 32768 32768 32768]\n",
      " [32768 32768 32768 ... 32768 32768 32768]\n",
      " [32768 32768 32768 ... 32768 32768 32768]\n",
      " ...\n",
      " [32768 32768 32768 ... 32768 32768 32768]\n",
      " [32768 32768 32768 ... 32768 32768 32768]\n",
      " [32768 32768 32768 ... 32768 32768 32768]]\n",
      "[[32768 32768 32768 ... 32768 32768 32768]\n",
      " [32768 32768 32768 ... 32768 32768 32768]\n",
      " [32768 32768 32768 ... 32768 32768 32768]\n",
      " ...\n",
      " [32768 32768 32768 ... 32768 32768 32768]\n",
      " [32768 32768 32768 ... 32768 32768 32768]\n",
      " [32768 32768 32768 ... 32768 32768 32768]]\n",
      "[[0. 0. 0. ... 0. 0. 0.]\n",
      " [0. 0. 0. ... 0. 0. 0.]\n",
      " [0. 0. 0. ... 0. 0. 0.]\n",
      " ...\n",
      " [0. 0. 0. ... 0. 0. 0.]\n",
      " [0. 0. 0. ... 0. 0. 0.]\n",
      " [0. 0. 0. ... 0. 0. 0.]]\n",
      "[[0. 0. 0. ... 0. 0. 0.]\n",
      " [0. 0. 0. ... 0. 0. 0.]\n",
      " [0. 0. 0. ... 0. 0. 0.]\n",
      " ...\n",
      " [0. 0. 0. ... 0. 0. 0.]\n",
      " [0. 0. 0. ... 0. 0. 0.]\n",
      " [0. 0. 0. ... 0. 0. 0.]]\n",
      "0.0\n",
      "0.0\n",
      "0.0\n",
      "0.0\n"
     ]
    }
   ],
   "source": [
    "cvImage = cv2.imread('000000_10_pr.png', -1)\n",
    "print(cvImage[...,1])\n",
    "print(cvImage[...,2])\n",
    "\n",
    "test1 = np.flip(cvImage[...,1:3], axis=-1).astype(np.float32)\n",
    "test1 = (test1 - 32768.) / (64.)\n",
    "\n",
    "print(test1[...,0])\n",
    "print(test1[...,1])\n",
    "print(np.amax(test1[...,0]))\n",
    "print(np.amax(test1[...,1]))\n",
    "print(np.amin(test1[...,0]))\n",
    "print(np.amin(test1[...,1]))"
   ]
  },
  {
   "cell_type": "code",
   "execution_count": null,
   "metadata": {},
   "outputs": [],
   "source": []
  }
 ],
 "metadata": {
  "kernelspec": {
   "display_name": "Python 2",
   "language": "python",
   "name": "python2"
  },
  "language_info": {
   "codemirror_mode": {
    "name": "ipython",
    "version": 2
   },
   "file_extension": ".py",
   "mimetype": "text/x-python",
   "name": "python",
   "nbconvert_exporter": "python",
   "pygments_lexer": "ipython2",
   "version": "2.7.12"
  }
 },
 "nbformat": 4,
 "nbformat_minor": 2
}
