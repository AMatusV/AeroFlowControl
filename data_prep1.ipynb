{
 "cells": [
  {
   "cell_type": "code",
   "execution_count": 1,
   "metadata": {},
   "outputs": [],
   "source": [
    "import rospy\n",
    "import rosbag\n",
    "import numpy as np\n",
    "import cv2\n",
    "from cv_bridge import CvBridge\n",
    "\n",
    "from sensor_msgs.msg import Image\n",
    "from geometry_msgs.msg import Twist\n",
    "from bebop_msgs.msg import Ardrone3PilotingStateAltitudeChanged"
   ]
  },
  {
   "cell_type": "code",
   "execution_count": 8,
   "metadata": {},
   "outputs": [
    {
     "name": "stdout",
     "output_type": "stream",
     "text": [
      "24\n",
      "x: 0.1\n",
      "y: 0.0\n",
      "z: 0.0\n",
      "x: 0.1\n",
      "y: 0.0\n",
      "z: 0.0\n",
      "0.860277235508\n",
      "0.68959403038\n"
     ]
    }
   ],
   "source": [
    "bag = rosbag.Bag('test_2020-06-15-19-36-39.bag')\n",
    "bridge = CvBridge()\n",
    "\n",
    "t1_s = 1592267817\n",
    "t1_ns = 530306887\n",
    "\n",
    "t2_s = 1592267818\n",
    "t2_ns = 337270471\n",
    "\n",
    "t1 = rospy.Time(t1_s, t1_ns)\n",
    "t2 = rospy.Time(t2_s, t2_ns)\n",
    "\n",
    "img = []\n",
    "cmd = []\n",
    "alt = []\n",
    "dataset = dict()\n",
    "dataset[\"img\"] = []\n",
    "dataset[\"cmd\"] = []\n",
    "dataset[\"alt\"] = []\n",
    "\n",
    "for topic, msg, t in bag.read_messages(topics=['/bebop/image_raw', '/bebop/cmd_vel','/bebop/states/ardrone3/PilotingState/AltitudeChanged']):\n",
    "    if t > t1 and t < t2:\n",
    "        if topic == '/bebop/image_raw':\n",
    "            img.append(bridge.imgmsg_to_cv2(msg, 'bgr8'))\n",
    "            \n",
    "        if topic == '/bebop/cmd_vel':\n",
    "            cmd.append(msg.linear)\n",
    "            \n",
    "        if topic == '/bebop/states/ardrone3/PilotingState/AltitudeChanged':\n",
    "            alt.append(msg.altitude)\n",
    "\n",
    "print(len(img))\n",
    "print(cmd[0])\n",
    "print(cmd[-1])\n",
    "print(alt[0])\n",
    "print(alt[-1])"
   ]
  },
  {
   "cell_type": "code",
   "execution_count": null,
   "metadata": {},
   "outputs": [],
   "source": []
  }
 ],
 "metadata": {
  "kernelspec": {
   "display_name": "Python 2",
   "language": "python",
   "name": "python2"
  },
  "language_info": {
   "codemirror_mode": {
    "name": "ipython",
    "version": 2
   },
   "file_extension": ".py",
   "mimetype": "text/x-python",
   "name": "python",
   "nbconvert_exporter": "python",
   "pygments_lexer": "ipython2",
   "version": "2.7.12"
  }
 },
 "nbformat": 4,
 "nbformat_minor": 2
}
