{
 "cells": [
  {
   "cell_type": "code",
   "execution_count": 1,
   "metadata": {},
   "outputs": [
    {
     "name": "stderr",
     "output_type": "stream",
     "text": [
      "Using TensorFlow backend.\n"
     ]
    }
   ],
   "source": [
    "import keras\n",
    "from keras.layers import Dense, Dropout, Activation, Flatten, Conv2D, MaxPooling2D\n",
    "from tensorflow.keras.callbacks import TensorBoard\n",
    "import numpy as np\n",
    "\n",
    "import pickle"
   ]
  },
  {
   "cell_type": "code",
   "execution_count": 2,
   "metadata": {},
   "outputs": [],
   "source": [
    "pickle_in = open(\"X.pickle\",\"rb\")\n",
    "X = pickle.load(pickle_in)\n",
    "\n",
    "pickle_in = open(\"y.pickle\",\"rb\")\n",
    "y = pickle.load(pickle_in)"
   ]
  },
  {
   "cell_type": "code",
   "execution_count": 3,
   "metadata": {},
   "outputs": [
    {
     "name": "stdout",
     "output_type": "stream",
     "text": [
      "(414, 100, 100, 2)\n",
      "-1.0\n",
      "1.0\n"
     ]
    }
   ],
   "source": [
    "# Data scaling\n",
    "out_min = -1\n",
    "out_max = 1\n",
    "\n",
    "X_scaled = np.copy(X)\n",
    "\n",
    "x_min = np.min(X)\n",
    "x_max = np.max(X)\n",
    "\n",
    "cnt = 0\n",
    "for xi in X:\n",
    "    x_std = (xi - x_min)/(x_max - x_min)\n",
    "    x_scld = x_std*(out_max - out_min) + out_min\n",
    "    X_scaled[cnt] = x_scld\n",
    "    cnt = cnt + 1\n",
    "\n",
    "print(X_scaled.shape)\n",
    "print(np.min(X_scaled))\n",
    "print(np.max(X_scaled))"
   ]
  },
  {
   "cell_type": "code",
   "execution_count": 5,
   "metadata": {},
   "outputs": [
    {
     "name": "stdout",
     "output_type": "stream",
     "text": [
      "Train on 331 samples, validate on 83 samples\n",
      "Epoch 1/10\n",
      "331/331 [==============================] - 1s 3ms/step - loss: 0.4791 - acc: 0.7613 - val_loss: 0.1739 - val_acc: 0.9518\n",
      "Epoch 2/10\n",
      "331/331 [==============================] - 1s 2ms/step - loss: 0.1654 - acc: 0.9517 - val_loss: 0.0277 - val_acc: 1.0000\n",
      "Epoch 3/10\n",
      "331/331 [==============================] - 1s 2ms/step - loss: 0.0485 - acc: 0.9819 - val_loss: 0.0123 - val_acc: 1.0000\n",
      "Epoch 4/10\n",
      "331/331 [==============================] - 1s 2ms/step - loss: 0.0202 - acc: 0.9940 - val_loss: 7.9806e-04 - val_acc: 1.0000\n",
      "Epoch 5/10\n",
      "331/331 [==============================] - 1s 2ms/step - loss: 0.0028 - acc: 1.0000 - val_loss: 0.0010 - val_acc: 1.0000\n",
      "Epoch 6/10\n",
      "331/331 [==============================] - 1s 2ms/step - loss: 0.0012 - acc: 1.0000 - val_loss: 3.3320e-04 - val_acc: 1.0000\n",
      "Epoch 7/10\n",
      "331/331 [==============================] - 1s 2ms/step - loss: 8.2845e-04 - acc: 1.0000 - val_loss: 5.0217e-04 - val_acc: 1.0000\n",
      "Epoch 8/10\n",
      "331/331 [==============================] - 1s 2ms/step - loss: 5.4193e-04 - acc: 1.0000 - val_loss: 2.2123e-04 - val_acc: 1.0000\n",
      "Epoch 9/10\n",
      "331/331 [==============================] - 1s 2ms/step - loss: 4.9079e-04 - acc: 1.0000 - val_loss: 2.9334e-04 - val_acc: 1.0000\n",
      "Epoch 10/10\n",
      "331/331 [==============================] - 1s 2ms/step - loss: 3.5318e-04 - acc: 1.0000 - val_loss: 1.8298e-04 - val_acc: 1.0000\n"
     ]
    },
    {
     "data": {
      "text/plain": [
       "<keras.callbacks.History at 0x7f91df5baad0>"
      ]
     },
     "execution_count": 5,
     "metadata": {},
     "output_type": "execute_result"
    }
   ],
   "source": [
    "NAME = \"Flow-GE-64x2-CNN\"\n",
    "\n",
    "model = keras.Sequential()\n",
    "\n",
    "model.add(Conv2D(64, (3, 3), input_shape=X.shape[1:]))\n",
    "model.add(Activation('relu'))\n",
    "model.add(MaxPooling2D(pool_size=(2, 2)))\n",
    "\n",
    "model.add(Conv2D(64, (3, 3)))\n",
    "model.add(Activation('relu'))\n",
    "model.add(MaxPooling2D(pool_size=(2, 2)))\n",
    "\n",
    "model.add(Flatten())  # this converts our 3D feature maps to 1D feature vectors\n",
    "model.add(Dense(64))\n",
    "model.add(Activation('relu'))\n",
    "\n",
    "model.add(Dense(1))\n",
    "model.add(Activation('sigmoid'))\n",
    "\n",
    "tensorboard = TensorBoard(log_dir=\"logs/{}\".format(NAME))\n",
    "\n",
    "model.compile(loss='binary_crossentropy',\n",
    "              optimizer='adam',\n",
    "              metrics=['accuracy'])\n",
    "\n",
    "model.fit(X_scaled, y, \n",
    "          batch_size=20, \n",
    "          epochs=10, \n",
    "          validation_split=0.2,\n",
    "          callbacks=[tensorboard])"
   ]
  },
  {
   "cell_type": "code",
   "execution_count": null,
   "metadata": {},
   "outputs": [],
   "source": []
  }
 ],
 "metadata": {
  "kernelspec": {
   "display_name": "Python 2",
   "language": "python",
   "name": "python2"
  },
  "language_info": {
   "codemirror_mode": {
    "name": "ipython",
    "version": 2
   },
   "file_extension": ".py",
   "mimetype": "text/x-python",
   "name": "python",
   "nbconvert_exporter": "python",
   "pygments_lexer": "ipython2",
   "version": "2.7.12"
  }
 },
 "nbformat": 4,
 "nbformat_minor": 2
}
