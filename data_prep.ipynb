{
 "cells": [
  {
   "cell_type": "code",
   "execution_count": 1,
   "metadata": {},
   "outputs": [],
   "source": [
    "import rosbag\n",
    "import cv2\n",
    "from cv_bridge import CvBridge\n",
    "import os\n",
    "\n",
    "from geometry_msgs.msg import Twist\n",
    "from sensor_msgs.msg import Image\n",
    "from bebop_msgs.msg import Ardrone3PilotingStateAltitudeChanged"
   ]
  },
  {
   "cell_type": "code",
   "execution_count": 2,
   "metadata": {},
   "outputs": [],
   "source": [
    "repoRoot = r'.'\n",
    "\n",
    "path = 'test'\n",
    "if not os.path.exists(path):\n",
    "    os.makedirs(path)"
   ]
  },
  {
   "cell_type": "code",
   "execution_count": 4,
   "metadata": {},
   "outputs": [],
   "source": [
    "bag = rosbag.Bag('test_2020-06-15-19-36-39.bag')\n",
    "bridge = CvBridge()\n",
    "\n",
    "cnt = 0\n",
    "for topic, msg, t in bag.read_messages(topics=['/bebop/cmd_vel', '/bebop/image_raw', '/flow']):\n",
    "    if topic == '/flow':\n",
    "        cvImage = bridge.imgmsg_to_cv2(msg, 'bgr8')\n",
    "        out_name = os.path.join(repoRoot, path, '%06d.png' % cnt)\n",
    "        cv2.imwrite(out_name, cvImage) \n",
    "        cnt = cnt + 1\n",
    "bag.close()"
   ]
  },
  {
   "cell_type": "code",
   "execution_count": 11,
   "metadata": {},
   "outputs": [
    {
     "name": "stdout",
     "output_type": "stream",
     "text": [
      "{'end': 1592267819.695702, 'compression': 'none', 'topics': [{'topic': '/bebop/cmd_vel', 'type': 'geometry_msgs/Twist', 'frequency': 29.9972, 'messages': 552}, {'topic': '/bebop/image_raw', 'type': 'sensor_msgs/Image', 'frequency': 30.4752, 'messages': 519}, {'topic': '/bebop/states/ardrone3/PilotingState/AltitudeChanged', 'type': 'bebop_msgs/Ardrone3PilotingStateAltitudeChanged', 'frequency': 4.9792, 'messages': 98}, {'topic': '/flow', 'type': 'sensor_msgs/Image', 'frequency': 11.1553, 'messages': 136}], 'messages': 1305, 'start': 1592267800.078959, 'version': 2.0, 'types': [{'type': 'bebop_msgs/Ardrone3PilotingStateAltitudeChanged', 'md5': '5073f650d09c8192d358641b48a0204b'}, {'type': 'geometry_msgs/Twist', 'md5': '9f195f881246fdfa2798d1d3eebca84a'}, {'type': 'sensor_msgs/Image', 'md5': '060021388200f6f0f447d0fcd9c64743'}], 'indexed': True, 'path': 'test_2020-06-15-19-36-39.bag', 'duration': 19.616743, 'size': 559156142}\n"
     ]
    },
    {
     "name": "stderr",
     "output_type": "stream",
     "text": [
      "/home/esteban/Code/AeroFlowControl/venv/lib/python2.7/site-packages/ipykernel_launcher.py:4: YAMLLoadWarning: calling yaml.load() without Loader=... is deprecated, as the default Loader is unsafe. Please read https://msg.pyyaml.org/load for full details.\n",
      "  after removing the cwd from sys.path.\n"
     ]
    }
   ],
   "source": [
    "import yaml\n",
    "from rosbag.bag import Bag\n",
    "\n",
    "info_dict = yaml.load(Bag('test_2020-06-15-19-36-39.bag', 'r')._get_yaml_info())\n",
    "print(info_dict)"
   ]
  },
  {
   "cell_type": "code",
   "execution_count": null,
   "metadata": {},
   "outputs": [],
   "source": []
  }
 ],
 "metadata": {
  "kernelspec": {
   "display_name": "Python 2",
   "language": "python",
   "name": "python2"
  },
  "language_info": {
   "codemirror_mode": {
    "name": "ipython",
    "version": 2
   },
   "file_extension": ".py",
   "mimetype": "text/x-python",
   "name": "python",
   "nbconvert_exporter": "python",
   "pygments_lexer": "ipython2",
   "version": "2.7.12"
  }
 },
 "nbformat": 4,
 "nbformat_minor": 2
}
