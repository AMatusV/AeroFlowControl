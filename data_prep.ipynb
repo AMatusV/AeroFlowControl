{
 "cells": [
  {
   "cell_type": "code",
   "execution_count": 1,
   "metadata": {},
   "outputs": [],
   "source": [
    "import os\n",
    "import rosbag\n",
    "from matplotlib import pyplot as plt\n",
    "import cv2\n",
    "from cv_bridge import CvBridge\n",
    "\n",
    "from geometry_msgs.msg import Twist\n",
    "from sensor_msgs.msg import Image\n",
    "#from bebop_msgs.msg import Ardrone3PilotingStateAltitudeChanged"
   ]
  },
  {
   "cell_type": "code",
   "execution_count": 2,
   "metadata": {},
   "outputs": [
    {
     "name": "stdout",
     "output_type": "stream",
     "text": [
      "Number of cmds: 353\n",
      "Number of flows: 706\n"
     ]
    },
    {
     "data": {
      "image/png": "[encoded data removed]",
      "text/plain": [
       "<Figure size 432x288 with 1 Axes>"
      ]
     },
     "metadata": {
      "needs_background": "light"
     },
     "output_type": "display_data"
    }
   ],
   "source": [
    "nbFrames = 2\n",
    "\n",
    "bag = rosbag.Bag('test_2020-06-15-19-36-39.bag')\n",
    "bridge = CvBridge()\n",
    "\n",
    "cmdVel = []\n",
    "optFlow = []\n",
    "pairs = dict()\n",
    "pairs[\"flow\"] = []\n",
    "pairs[\"cmd\"] = []\n",
    "\n",
    "cnt = 0\n",
    "for topic, msg, t in bag.read_messages(topics=['/bebop/cmd_vel', '/flow']):\n",
    "    if topic == '/flow':\n",
    "        optFlow.append(bridge.imgmsg_to_cv2(msg, 'bgr8'))\n",
    "        \n",
    "    if topic == '/bebop/cmd_vel':\n",
    "        cmdVel.append(msg.linear)\n",
    "        if len(optFlow) >= nbFrames:\n",
    "            for i in range(nbFrames):\n",
    "                pairs[\"flow\"].append(optFlow[len(optFlow) - 1 + i - nbFrames])\n",
    "            pairs[\"cmd\"].append(cmdVel[-1])\n",
    "\n",
    "print(\"Number of cmds: \" + str(len(pairs[\"cmd\"])))\n",
    "print(\"Number of flows: \" + str(len(pairs[\"flow\"])))\n",
    "\n",
    "rgb_f = cv2.cvtColor(pairs[\"flow\"][0], cv2.COLOR_BGR2RGB)\n",
    "plt.imshow(rgb_f)\n",
    "plt.title('flow')\n",
    "plt.show()\n",
    "\n",
    "bag.close()"
   ]
  },
  {
   "cell_type": "code",
   "execution_count": null,
   "metadata": {},
   "outputs": [],
   "source": []
  }
 ],
 "metadata": {
  "kernelspec": {
   "display_name": "Python 2",
   "language": "python",
   "name": "python2"
  },
  "language_info": {
   "codemirror_mode": {
    "name": "ipython",
    "version": 2
   },
   "file_extension": ".py",
   "mimetype": "text/x-python",
   "name": "python",
   "nbconvert_exporter": "python",
   "pygments_lexer": "ipython2",
   "version": "2.7.12"
  }
 },
 "nbformat": 4,
 "nbformat_minor": 2
}
