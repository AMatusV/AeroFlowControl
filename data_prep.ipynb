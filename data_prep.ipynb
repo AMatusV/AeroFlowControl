{
 "cells": [
  {
   "cell_type": "code",
   "execution_count": 1,
   "metadata": {},
   "outputs": [],
   "source": [
    "import os\n",
    "import rosbag\n",
    "from matplotlib import pyplot as plt\n",
    "import cv2\n",
    "import numpy as np\n",
    "from cv_bridge import CvBridge\n",
    "\n",
    "from geometry_msgs.msg import Twist\n",
    "from sensor_msgs.msg import Image\n",
    "#from bebop_msgs.msg import Ardrone3PilotingStateAltitudeChanged"
   ]
  },
  {
   "cell_type": "code",
   "execution_count": 2,
   "metadata": {},
   "outputs": [
    {
     "name": "stdout",
     "output_type": "stream",
     "text": [
      "Number of cmds: 353\n",
      "Number of flows: 706\n",
      "x: 0.1\n",
      "y: 0.0\n",
      "z: 0.0\n",
      "[[-0.03125  -0.015625  0.015625 ... -0.265625 -0.265625 -0.265625]\n",
      " [-0.03125  -0.015625  0.015625 ... -0.265625 -0.265625 -0.265625]\n",
      " [-0.03125   0.        0.015625 ... -0.265625 -0.265625 -0.265625]\n",
      " ...\n",
      " [-2.765625 -3.03125  -3.296875 ... -1.328125 -1.328125 -1.328125]\n",
      " [-2.765625 -3.03125  -3.296875 ... -1.328125 -1.328125 -1.328125]\n",
      " [-2.765625 -3.03125  -3.296875 ... -1.328125 -1.328125 -1.328125]]\n"
     ]
    }
   ],
   "source": [
    "nbFrames = 2\n",
    "\n",
    "bag = rosbag.Bag('test_2020-06-15-19-36-39.bag')\n",
    "bridge = CvBridge()\n",
    "\n",
    "cmdVel = []\n",
    "optFlow = []\n",
    "pairs = dict()\n",
    "pairs[\"flow\"] = []\n",
    "pairs[\"cmd\"] = []\n",
    "\n",
    "for topic, msg, t in bag.read_messages(topics=['/bebop/cmd_vel', '/flow']):\n",
    "    if topic == '/flow':\n",
    "        optFlow.append(bridge.imgmsg_to_cv2(msg, 'bgr16'))\n",
    "        \n",
    "    if topic == '/bebop/cmd_vel':\n",
    "        cmdVel.append(msg.linear)\n",
    "        if len(optFlow) >= nbFrames:\n",
    "            for i in range(nbFrames):\n",
    "                tmp = np.flip(optFlow[len(optFlow) - 1 + i - nbFrames][...,1:3], axis=-1).astype(np.float32)\n",
    "                tmp = (tmp - 32768.) / (64.)\n",
    "                pairs[\"flow\"].append(tmp)\n",
    "            pairs[\"cmd\"].append(cmdVel[-1])\n",
    "\n",
    "print(\"Number of cmds: \" + str(len(pairs[\"cmd\"])))\n",
    "print(\"Number of flows: \" + str(len(pairs[\"flow\"])))\n",
    "\n",
    "print(pairs[\"cmd\"][201])\n",
    "print(pairs[\"flow\"][201][...,0])\n",
    "\n",
    "bag.close()"
   ]
  },
  {
   "cell_type": "code",
   "execution_count": 13,
   "metadata": {},
   "outputs": [
    {
     "name": "stdout",
     "output_type": "stream",
     "text": [
      "x: 0.1\n",
      "y: 0.0\n",
      "z: 0.0\n",
      "[[32768 32768 32768 ... 32768 32768 32768]\n",
      " [32768 32768 32768 ... 32768 32768 32768]\n",
      " [32768 32768 32768 ... 32768 32768 32768]\n",
      " ...\n",
      " [32768 32768 32768 ... 32768 32768 32768]\n",
      " [32768 32768 32768 ... 32768 32768 32768]\n",
      " [32768 32768 32768 ... 32768 32768 32768]]\n",
      "[[32769 32770 32771 ... 33173 33173 33173]\n",
      " [32768 32769 32769 ... 33175 33175 33175]\n",
      " [32767 32767 32767 ... 33177 33177 33177]\n",
      " ...\n",
      " [32225 32222 32219 ... 33400 33400 33400]\n",
      " [32225 32222 32219 ... 33400 33400 33400]\n",
      " [32225 32222 32219 ... 33400 33400 33400]]\n",
      "[[-0.031 -0.016  0.016 ... -0.266 -0.266 -0.266]\n",
      " [-0.031 -0.016  0.016 ... -0.266 -0.266 -0.266]\n",
      " [-0.031  0.     0.016 ... -0.266 -0.266 -0.266]\n",
      " ...\n",
      " [-2.766 -3.031 -3.297 ... -1.328 -1.328 -1.328]\n",
      " [-2.766 -3.031 -3.297 ... -1.328 -1.328 -1.328]\n",
      " [-2.766 -3.031 -3.297 ... -1.328 -1.328 -1.328]]\n",
      "[[0. 0. 0. ... 0. 0. 0.]\n",
      " [0. 0. 0. ... 0. 0. 0.]\n",
      " [0. 0. 0. ... 0. 0. 0.]\n",
      " ...\n",
      " [0. 0. 0. ... 0. 0. 0.]\n",
      " [0. 0. 0. ... 0. 0. 0.]\n",
      " [0. 0. 0. ... 0. 0. 0.]]\n"
     ]
    }
   ],
   "source": [
    "print(pairs[\"cmd\"][201])\n",
    "print(optFlow[100][...,1])\n",
    "print(optFlow[100][...,2])\n",
    "np.set_printoptions(precision=3)\n",
    "print(pairs[\"flow\"][201][...,0])\n",
    "print(pairs[\"flow\"][201][...,1])"
   ]
  },
  {
   "cell_type": "code",
   "execution_count": 39,
   "metadata": {},
   "outputs": [
    {
     "name": "stdout",
     "output_type": "stream",
     "text": [
      "4.375\n",
      "0.0\n"
     ]
    }
   ],
   "source": [
    "#print(optFlow[100][...,1])\n",
    "#print(optFlow[100][...,2])\n",
    "      \n",
    "test = np.flip(optFlow[14][...,1:3], axis=-1).astype(np.float32)\n",
    "#print(test[...,0])\n",
    "#print(test[...,1])\n",
    "\n",
    "test = (test - 32768.) / (64.)\n",
    "#print(test[...,0])\n",
    "#print(test[...,1])\n",
    "print(np.amax(test[...,0]))\n",
    "print(np.amax(test[...,1]))"
   ]
  },
  {
   "cell_type": "code",
   "execution_count": 32,
   "metadata": {},
   "outputs": [
    {
     "name": "stdout",
     "output_type": "stream",
     "text": [
      "[[32768 32768 32768 ... 32768 32768 32768]\n",
      " [32768 32768 32768 ... 32768 32768 32768]\n",
      " [32768 32768 32768 ... 32768 32768 32768]\n",
      " ...\n",
      " [32768 32768 36569 ... 32768 32768 32768]\n",
      " [32768 32768 32768 ... 32768 32768 32768]\n",
      " [32768 32768 32768 ... 32768 32768 32768]]\n",
      "[[32768 32768 32768 ... 32768 32768 32768]\n",
      " [32768 32768 32768 ... 32768 32768 32768]\n",
      " [32768 32768 32768 ... 32768 32768 32768]\n",
      " ...\n",
      " [32768 32768 20540 ... 32768 32768 32768]\n",
      " [32768 32768 32768 ... 32768 32768 32768]\n",
      " [32768 32768 32768 ... 32768 32768 32768]]\n",
      "[[-0.391 -0.328 -0.25  ...  0.062  0.062  0.062]\n",
      " [-0.359 -0.312 -0.25  ...  0.094  0.094  0.094]\n",
      " [-0.328 -0.297 -0.25  ...  0.141  0.141  0.141]\n",
      " ...\n",
      " [ 1.344  1.438  1.547 ... -0.688 -0.688 -0.688]\n",
      " [ 1.344  1.438  1.547 ... -0.688 -0.688 -0.688]\n",
      " [ 1.344  1.438  1.547 ... -0.688 -0.688 -0.688]]\n",
      "[[0. 0. 0. ... 0. 0. 0.]\n",
      " [0. 0. 0. ... 0. 0. 0.]\n",
      " [0. 0. 0. ... 0. 0. 0.]\n",
      " ...\n",
      " [0. 0. 0. ... 0. 0. 0.]\n",
      " [0. 0. 0. ... 0. 0. 0.]\n",
      " [0. 0. 0. ... 0. 0. 0.]]\n",
      "75.546875\n"
     ]
    }
   ],
   "source": [
    "cvImage = cv2.imread('flow_gt.png', -1)\n",
    "print(cvImage[...,1])\n",
    "print(cvImage[...,2])\n",
    "\n",
    "test1 = np.flip(cvImage[...,1:3], axis=-1).astype(np.float32)\n",
    "test1 = (test1 - 32768.) / (64.)\n",
    "\n",
    "print(test1[...,0])\n",
    "print(test1[...,1])\n",
    "print(np.amax(test1[...,1]))"
   ]
  },
  {
   "cell_type": "code",
   "execution_count": null,
   "metadata": {},
   "outputs": [],
   "source": []
  }
 ],
 "metadata": {
  "kernelspec": {
   "display_name": "Python 2",
   "language": "python",
   "name": "python2"
  },
  "language_info": {
   "codemirror_mode": {
    "name": "ipython",
    "version": 2
   },
   "file_extension": ".py",
   "mimetype": "text/x-python",
   "name": "python",
   "nbconvert_exporter": "python",
   "pygments_lexer": "ipython2",
   "version": "2.7.12"
  }
 },
 "nbformat": 4,
 "nbformat_minor": 2
}
